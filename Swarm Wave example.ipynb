{
 "cells": [
  {
   "cell_type": "code",
   "execution_count": 1,
   "metadata": {},
   "outputs": [],
   "source": [
    "from fractalai.wave_swarm import WaveSwarm\n",
    "import time"
   ]
  },
  {
   "cell_type": "code",
   "execution_count": 2,
   "metadata": {},
   "outputs": [],
   "source": [
    "env_name = \"MsPacman-v0\"\n",
    "skip_frames=0 # Number of frames to skip at the beginning\n",
    "n_fixed_steps=4 # Apply the same action n times\n",
    "n_samples=8 * 1e6 # Maximum number of samples allowed\n",
    "until_score=4500 # Stop the sampling when this score is reached\n",
    "n_walkers=25 # Maximum witdh of the tree containing al the trajectories\n",
    "render_every=5 # print statistics every n iterations.\n",
    "balance=1 # Balance exploration vs exploitation"
   ]
  },
  {
   "cell_type": "code",
   "execution_count": 3,
   "metadata": {
    "scrolled": true
   },
   "outputs": [
    {
     "name": "stdout",
     "output_type": "stream",
     "text": [
      "Environment: MsPacman-v0\n",
      "Samples done: 91512 Progress 93.33%\n",
      "Reward: mean 4174.80 std 13.00 max 4200.00 min 4150.00\n",
      "Episode length: mean 1788.32 std 3.74 max 1796.00 min 1780.00\n",
      "Efficiency 6.48%\n",
      "Generated 5933 Examples | 15.42 samples per action.\n"
     ]
    }
   ],
   "source": [
    "s = WaveSwarm(env_name=\"MsPacman-v0\", skip_frames=skip_frames,\n",
    "              n_fixed_steps=n_fixed_steps, n_samples=n_samples, until_score=until_score,\n",
    "              n_walkers=n_walkers, render_every=render_every, balance=balance)\n",
    "\n",
    "s.run_swarm()"
   ]
  },
  {
   "cell_type": "code",
   "execution_count": null,
   "metadata": {
    "scrolled": true
   },
   "outputs": [],
   "source": [
    "# Get the observations belonging to the highest score game\n",
    "obs = s.tree.get_branch(leaf_id= s.walkers_id[s.rewards.argmax()])\n",
    "# s.rewards.tolist() # Uncomment to see the scores for each walker"
   ]
  },
  {
   "cell_type": "code",
   "execution_count": null,
   "metadata": {},
   "outputs": [],
   "source": [
    "import time\n",
    "from gym.envs.classic_control import rendering\n",
    "# Run this cell to visualize the sampled game\n",
    "def render_game(images, viewer=None, sleep=0.05):\n",
    "    if viewer is None:\n",
    "        viewer = rendering.SimpleImageViewer()\n",
    "    for img in images:\n",
    "        viewer.imshow(img)\n",
    "        time.sleep(sleep)\n",
    "    return viewer\n",
    "viewer = render_game(obs)"
   ]
  }
 ],
 "metadata": {
  "kernelspec": {
   "display_name": "Python 3",
   "language": "python",
   "name": "python3"
  },
  "language_info": {
   "codemirror_mode": {
    "name": "ipython",
    "version": 3
   },
   "file_extension": ".py",
   "mimetype": "text/x-python",
   "name": "python",
   "nbconvert_exporter": "python",
   "pygments_lexer": "ipython3",
   "version": "3.6.3"
  }
 },
 "nbformat": 4,
 "nbformat_minor": 2
}
