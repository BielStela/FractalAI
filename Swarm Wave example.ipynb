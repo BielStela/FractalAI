{
 "cells": [
  {
   "cell_type": "code",
   "execution_count": 20,
   "metadata": {},
   "outputs": [],
   "source": [
    "from fractalai.wave_swarm import WaveSwarm\n",
    "import time"
   ]
  },
  {
   "cell_type": "markdown",
   "metadata": {},
   "source": [
    "# This algorithhm is made for solving discreate Markov decision processes when a perfect model is available"
   ]
  },
  {
   "cell_type": "markdown",
   "metadata": {},
   "source": [
    "In this context, if you need to generate data to train a network, IO is now your bottleneck."
   ]
  },
  {
   "cell_type": "code",
   "execution_count": 21,
   "metadata": {},
   "outputs": [],
   "source": [
    "env_name = \"MsPacman-v0\"\n",
    "skip_frames = 0 # Number of frames to skip at the beginning\n",
    "n_fixed_steps = 3 # Apply the same action n times\n",
    "n_samples = 8 * 1e6 # Maximum number of samples allowed\n",
    "until_score = 10000 # Stop the sampling when this score is reached\n",
    "n_walkers = 50 # Maximum witdh of the tree containing al the trajectories\n",
    "render_every = 10 # print statistics every n iterations.\n",
    "balance = 1 # Balance exploration vs exploitation"
   ]
  },
  {
   "cell_type": "code",
   "execution_count": 22,
   "metadata": {
    "scrolled": false
   },
   "outputs": [
    {
     "name": "stdout",
     "output_type": "stream",
     "text": [
      "Environment: MsPacman-v0\n",
      "Samples done: 198144 Progress 95.20%\n",
      "Reward: mean 9429.20 std 24.56 max 9520.00 min 9380.00\n",
      "Episode length: mean 2116.80 std 6.29 max 2130.00 min 2103.00\n",
      "Efficiency 4.81%\n",
      "Generated 9537 Examples | 20.78 samples per example.\n"
     ]
    }
   ],
   "source": [
    "s = WaveSwarm(env_name=env_name, skip_frames=skip_frames,\n",
    "              n_fixed_steps=n_fixed_steps, n_samples=n_samples, until_score=until_score,\n",
    "              n_walkers=n_walkers, render_every=render_every, balance=balance)\n",
    "\n",
    "s.run_swarm()"
   ]
  },
  {
   "cell_type": "code",
   "execution_count": 24,
   "metadata": {},
   "outputs": [
    {
     "name": "stdout",
     "output_type": "stream",
     "text": [
      "Environment: MsPacman-v0\n",
      "Samples done: 199506 Progress 101.41%\n",
      "Reward: mean 9549.22 std 149.11 max 10141.00 min 9430.00\n",
      "Episode length: mean 2133.78 std 5.75 max 2142.00 min 2121.00\n",
      "Efficiency 4.71%\n",
      "Generated 9393 Examples | 21.24 samples per example.\n"
     ]
    }
   ],
   "source": [
    "print(s)"
   ]
  },
  {
   "cell_type": "code",
   "execution_count": 26,
   "metadata": {
    "scrolled": true
   },
   "outputs": [],
   "source": [
    "# Get the observations belonging to the highest score game\n",
    "obs = s.tree.get_branch(leaf_id= s.walkers_id[s.rewards.argmax()])\n",
    "# s.rewards.tolist() # Uncomment to see the scores for each walker"
   ]
  },
  {
   "cell_type": "code",
   "execution_count": 14,
   "metadata": {},
   "outputs": [],
   "source": [
    "import time\n",
    "from gym.envs.classic_control import rendering\n",
    "# Run this cell to visualize the sampled game\n",
    "def render_game(images, viewer=None, sleep=0.05):\n",
    "    if viewer is None:\n",
    "        viewer = rendering.SimpleImageViewer()\n",
    "    for img in images:\n",
    "        viewer.imshow(img)\n",
    "        time.sleep(sleep)\n",
    "    return viewer\n",
    "viewer = render_game(obs)"
   ]
  },
  {
   "cell_type": "code",
   "execution_count": null,
   "metadata": {},
   "outputs": [],
   "source": []
  }
 ],
 "metadata": {
  "kernelspec": {
   "display_name": "Python 3",
   "language": "python",
   "name": "python3"
  },
  "language_info": {
   "codemirror_mode": {
    "name": "ipython",
    "version": 3
   },
   "file_extension": ".py",
   "mimetype": "text/x-python",
   "name": "python",
   "nbconvert_exporter": "python",
   "pygments_lexer": "ipython3",
   "version": "3.6.3"
  }
 },
 "nbformat": 4,
 "nbformat_minor": 2
}
