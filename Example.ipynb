{
 "cells": [
  {
   "cell_type": "code",
   "execution_count": 1,
   "metadata": {},
   "outputs": [],
   "source": [
    "from fractalai.policy import GreedyPolicy\n",
    "from fractalai.model import RandomDiscreteModel\n",
    "from fractalai.fractalai import FractalAI\n",
    "from fractalai.environment import AtariEnvironment"
   ]
  },
  {
   "cell_type": "code",
   "execution_count": 2,
   "metadata": {},
   "outputs": [],
   "source": [
    "# Environment Params\n",
    "n_fixed_steps=5\n",
    "name = \"MsPacman-v0\"\n",
    "clone_seeds = True\n",
    "max_steps = 1e6\n",
    "skip_frames = 50\n",
    "render=True\n",
    "# FAI PARAMS\n",
    "max_samples=800\n",
    "max_states=20\n",
    "time_horizon=15"
   ]
  },
  {
   "cell_type": "code",
   "execution_count": 3,
   "metadata": {},
   "outputs": [],
   "source": [
    "# Create the Skynet\n",
    "env =  AtariEnvironment(name=name, clone_seeds=clone_seeds)\n",
    "model = RandomDiscreteModel(env.env.action_space.n)\n",
    "greedy = GreedyPolicy(env=env, model=model)\n",
    "\n",
    "fractal = FractalAI(policy=greedy, max_samples=max_samples, max_states=max_states,\n",
    "                    time_horizon=time_horizon, n_fixed_steps=n_fixed_steps)"
   ]
  },
  {
   "cell_type": "code",
   "execution_count": null,
   "metadata": {},
   "outputs": [
    {
     "name": "stdout",
     "output_type": "stream",
     "text": [
      "Step: 175 Score: 1700.0\n",
      " Fractal with 20 states.\n",
      "Balance Coef 1.1567 | Mean Samples 294.76 | Current sample limit 286\n",
      "Algorithm last iter:\n",
      "- Deaths: \n",
      "    0 states: 0.00%\n",
      "- Time: \n",
      "    Mean: 17.35 | Std: 1.53\n",
      "- Worker: \n",
      "    Step: 80.00% 16 steps | Clone: 20.00% 4 clones\n",
      "\n"
     ]
    }
   ],
   "source": [
    "# PWN DeepMind\n",
    "fractal.evaluate(render=render, max_steps=max_steps, skip_frames=skip_frames)"
   ]
  },
  {
   "cell_type": "code",
   "execution_count": null,
   "metadata": {},
   "outputs": [],
   "source": []
  }
 ],
 "metadata": {
  "kernelspec": {
   "display_name": "Python 3",
   "language": "python",
   "name": "python3"
  },
  "language_info": {
   "codemirror_mode": {
    "name": "ipython",
    "version": 3
   },
   "file_extension": ".py",
   "mimetype": "text/x-python",
   "name": "python",
   "nbconvert_exporter": "python",
   "pygments_lexer": "ipython3",
   "version": "3.6.3"
  }
 },
 "nbformat": 4,
 "nbformat_minor": 2
}
