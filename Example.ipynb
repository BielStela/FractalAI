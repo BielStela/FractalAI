{
 "cells": [
  {
   "cell_type": "code",
   "execution_count": 1,
   "metadata": {},
   "outputs": [],
   "source": [
    "import numpy as np\n",
    "from fractalai.policy import GreedyPolicy\n",
    "from fractalai.model import RandomDiscreteModel\n",
    "from fractalai.fractalai import FractalAI\n",
    "from fractalai.environment import AtariEnvironment\n",
    "from fractalai.monitor import AtariMonitorPolicy"
   ]
  },
  {
   "cell_type": "code",
   "execution_count": 2,
   "metadata": {},
   "outputs": [],
   "source": [
    "# Environment Params\n",
    "n_fixed_steps=4\n",
    "\n",
    "name = \"MsPacman-v0\"\n",
    "clone_seeds = True\n",
    "max_steps = 1e6\n",
    "skip_frames = 50\n",
    "render=True\n",
    "# FAI PARAMS\n",
    "max_samples=15\n",
    "max_states=15\n",
    "time_horizon=10"
   ]
  },
  {
   "cell_type": "code",
   "execution_count": 3,
   "metadata": {},
   "outputs": [],
   "source": [
    "\n",
    "env =  AtariEnvironment(name=name, clone_seeds=clone_seeds)\n",
    "model = RandomDiscreteModel(env.env.action_space.n)\n",
    "greedy = GreedyPolicy(env=env, model=model)\n",
    "\n",
    "fractal = FractalAI(policy=greedy, max_samples=max_samples, max_states=max_states,\n",
    "                    time_horizon=time_horizon, n_fixed_steps=n_fixed_steps)"
   ]
  },
  {
   "cell_type": "code",
   "execution_count": 4,
   "metadata": {},
   "outputs": [],
   "source": [
    "monitor = AtariMonitorPolicy(policy=fractal, directory=\"videos\", force=True)"
   ]
  },
  {
   "cell_type": "markdown",
   "metadata": {},
   "source": [
    "## Record a video"
   ]
  },
  {
   "cell_type": "markdown",
   "metadata": {},
   "source": [
    "This will make everything a bit slowe, but you will b"
   ]
  },
  {
   "cell_type": "code",
   "execution_count": 5,
   "metadata": {},
   "outputs": [],
   "source": [
    "monitor.record_video(skip_frames=120)"
   ]
  },
  {
   "cell_type": "code",
   "execution_count": null,
   "metadata": {
    "scrolled": false
   },
   "outputs": [],
   "source": [
    "# With no video\n",
    "# fractal.evaluate(render=render, max_steps=max_steps, skip_frames=skip_frames)"
   ]
  }
 ],
 "metadata": {
  "kernelspec": {
   "display_name": "Python 3",
   "language": "python",
   "name": "python3"
  },
  "language_info": {
   "codemirror_mode": {
    "name": "ipython",
    "version": 3
   },
   "file_extension": ".py",
   "mimetype": "text/x-python",
   "name": "python",
   "nbconvert_exporter": "python",
   "pygments_lexer": "ipython3",
   "version": "3.6.3"
  }
 },
 "nbformat": 4,
 "nbformat_minor": 2
}
